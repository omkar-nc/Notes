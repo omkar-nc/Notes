{
 "cells": [
  {
   "cell_type": "code",
   "execution_count": 15,
   "id": "b69f5146-7048-46a1-93dd-9d7a40867470",
   "metadata": {},
   "outputs": [],
   "source": [
    "# mean = np.mean(data)\n",
    "# std_dev = np.std(data)"
   ]
  },
  {
   "cell_type": "code",
   "execution_count": 17,
   "id": "5e38b5f8-fd18-4f19-8b14-865ec97116be",
   "metadata": {
    "scrolled": true
   },
   "outputs": [
    {
     "name": "stdin",
     "output_type": "stream",
     "text": [
      "Enter the Mean of your Sample:  244\n"
     ]
    },
    {
     "name": "stdout",
     "output_type": "stream",
     "text": [
      "The Mean of you Samples is: 244.\n",
      "\n",
      "\n"
     ]
    },
    {
     "name": "stdin",
     "output_type": "stream",
     "text": [
      "Enter the Mean of your Population:  250\n"
     ]
    },
    {
     "name": "stdout",
     "output_type": "stream",
     "text": [
      "The Mean of your Population is: 250.\n",
      "\n",
      "\n"
     ]
    },
    {
     "name": "stdin",
     "output_type": "stream",
     "text": [
      "Enter the Standard Deviation of your Population:  30\n"
     ]
    },
    {
     "name": "stdout",
     "output_type": "stream",
     "text": [
      "The Standard Deviation of your Population is: 30.\n",
      "\n",
      "\n"
     ]
    },
    {
     "name": "stdin",
     "output_type": "stream",
     "text": [
      "Enter the Number of your Samples you have considered:  33\n"
     ]
    },
    {
     "name": "stdout",
     "output_type": "stream",
     "text": [
      "The NUmber of Samples you have is: 33.\n",
      "\n",
      "\n"
     ]
    },
    {
     "name": "stdin",
     "output_type": "stream",
     "text": [
      "Enter the Significance Level (α) for your test:  0.05\n"
     ]
    },
    {
     "name": "stdout",
     "output_type": "stream",
     "text": [
      "The Significance Level (α) of you Samples is: 0.05.\n",
      "\n",
      "\n",
      "What sort of a Hypothesis Test do you want?\n",
      "1. Two Tailed (μ0: μ = 250)\n",
      "2. Left One Tailed (μ0: μ >= 250)\n",
      "3. Right One Tailed (μ0: μ <= 250)\n",
      "\n",
      "\n"
     ]
    },
    {
     "name": "stdin",
     "output_type": "stream",
     "text": [
      "Enter the Number for your test 1, 2 or 3:  2\n"
     ]
    },
    {
     "name": "stdout",
     "output_type": "stream",
     "text": [
      "\n",
      "\n",
      "The Selected Test is: Left One Tailed (μ0: μ >= 250)\n",
      "The Z-Value of the variables you have input is: -1.148912529307606)\n",
      "The Z-Value of the LEFT SIDE IS: -1.6448536269514729.\n",
      "The Critical Range is <-1.6448536269514729.\n",
      "We DO NOT have enough evidence to REJECT THE NULL HYPOTHESIS\n"
     ]
    }
   ],
   "source": [
    "# Hypothesis Testing\n",
    "import numpy as np\n",
    "import scipy.stats as stats\n",
    "\n",
    "import matplotlib.pyplot as plt\n",
    "from scipy.stats import norm\n",
    "#--------------------------------------------------------------------------------------------------------#\n",
    "x = input(\"Enter the Mean of your Sample: \")\n",
    "print(\"The Mean of you Samples is: \" + x + \".\")\n",
    "print(\"\\n\")\n",
    "#--------------------------------------------------------------------------------------------------------#\n",
    "mu = input(\"Enter the Mean of your Population: \")\n",
    "print(\"The Mean of your Population is: \" + mu + \".\")\n",
    "print(\"\\n\")\n",
    "#--------------------------------------------------------------------------------------------------------#\n",
    "sd = input(\"Enter the Standard Deviation of your Population: \")\n",
    "print(\"The Standard Deviation of your Population is: \" + sd + \".\")\n",
    "print(\"\\n\")\n",
    "#--------------------------------------------------------------------------------------------------------#\n",
    "n = input(\"Enter the Number of your Samples you have considered: \")\n",
    "print(\"The NUmber of Samples you have is: \" + n + \".\")\n",
    "print(\"\\n\")\n",
    "#--------------------------------------------------------------------------------------------------------#\n",
    "alpha = input(\"Enter the Significance Level (α) for your test: \")\n",
    "print(\"The Significance Level (α) of you Samples is: \" + alpha + \".\")\n",
    "print(\"\\n\")\n",
    "#--------------------------------------------------------------------------------------------------------#\n",
    "print(\"What sort of a Hypothesis Test do you want?\")\n",
    "print(\"1. Two Tailed (μ0: μ = \" + mu + \")\")\n",
    "print(\"2. Left One Tailed (μ0: μ >= \"\"\" + mu + \")\")\n",
    "print(\"3. Right One Tailed (μ0: μ <= \"\"\" + mu + \")\")\n",
    "print(\"\\n\")\n",
    "#--------------------------------------------------------------------------------------------------------#\n",
    "test = input(\"Enter the Number for your test 1, 2 or 3: \")\n",
    "test_int = float(test)\n",
    "print(\"\\n\")\n",
    "#--------------------------------------------------------------------------------------------------------#\n",
    "if test_int == 1:\n",
    "    print(\"The Selected Test is: Two Tailed (μ0: μ = \" + mu + \")\")\n",
    "elif test_int == 2:\n",
    "        print(\"The Selected Test is: Left One Tailed (μ0: μ >= \"\"\" + mu + \")\")\n",
    "elif test_int == 3:\n",
    "        print(\"The Selected Test is: Right One Tailed (μ0: μ <= \"\"\" + mu + \")\")\n",
    "else:\n",
    "    print(\"Wrong Option Selected, Restart Program\")\n",
    "#--------------------------------------------------------------------------------------------------------#\n",
    "num = (float(x)-float(mu))\n",
    "seopm = float(sd)/(float(n)**0.5) #Standard Error of Population Mean\n",
    "\n",
    "z_score = num/seopm\n",
    "\n",
    "print(\"The Z-Value of the variables you have input is: \" + str(z_score) + \")\")\n",
    "#--------------------------------------------------------------------------------------------------------#\n",
    "if test_int == 1:\n",
    "    z_val_prim = stats.norm.ppf(float(alpha)/2)\n",
    "    z_val_seco = stats.norm.ppf(float(alpha)/2)/-1\n",
    "    print(\"The Z-Value of the LEFT SIDE IS: \" + str(z_val_seco) + \".\")\n",
    "    print(\"The Z-Value of the RIGHT SIDE IS: \" + str(z_val_prim) + \".\")\n",
    "elif test_int == 2:\n",
    "    z_val_prim = stats.norm.ppf(float(alpha))/1\n",
    "    print(\"The Z-Value of the LEFT SIDE IS: \" + str(z_val_prim) + \".\")\n",
    "elif test_int == 3:\n",
    "    z_val_prim = stats.norm.ppf(float(alpha))/-1\n",
    "    print(\"The Z-Value of the RIGHT SIDE IS: \" + str(z_val_prim) + \".\")\n",
    "#--------------------------------------------------------------------------------------------------------#   \n",
    "if test_int == 1:\n",
    "    print(\"The Critical Range is <\" + str(z_val_prim) + \" OR > \"+ str(z_val_seco) + \".\")\n",
    "elif test_int == 2:\n",
    "        print(\"The Critical Range is <\" + str(z_val_prim) + \".\")\n",
    "elif test_int == 3:\n",
    "        print(\"The Critical Range is >\" + str(z_val_prim) + \".\")\n",
    "#--------------------------------------------------------------------------------------------------------#\n",
    "if test_int == 1:\n",
    "    if (z_score <= z_val_prim) or (z_score >= z_val_seco) :\n",
    "        print(\"We have enough evidence to REJECT THE NULL HYPOTHESIS\")\n",
    "    else:\n",
    "        print(\"We DO NOT have enough evidence to REJECT THE NULL HYPOTHESIS\")  \n",
    "elif test_int == 2:\n",
    "    if (z_score <= z_val_prim) :\n",
    "        print(\"We have enough evidence to REJECT THE NULL HYPOTHESIS\")\n",
    "    else:\n",
    "        print(\"We DO NOT have enough evidence to REJECT THE NULL HYPOTHESIS\")\n",
    "elif test_int == 3:\n",
    "    if (z_score >= z_val_prim) :\n",
    "        print(\"We have enough evidence to REJECT THE NULL HYPOTHESIS\")\n",
    "    else:\n",
    "        print(\"We DO NOT have enough evidence to REJECT THE NULL HYPOTHESIS\")\n",
    "#--------------------------------------------------------------------------------------------------------#\n"
   ]
  },
  {
   "cell_type": "code",
   "execution_count": 13,
   "id": "622cd44b-1ed4-4e4a-8eb7-57dafe3f0a0b",
   "metadata": {},
   "outputs": [
    {
     "data": {
      "image/png": "[encoded data removed]",
      "text/plain": [
       "<Figure size 640x480 with 1 Axes>"
      ]
     },
     "metadata": {},
     "output_type": "display_data"
    }
   ],
   "source": [
    "# Generate x values for the plot\n",
    "x = np.linspace(float(mu) - 3*float(sd), float(mu) + 3*float(sd), 100) # x renamed as w\n",
    "\n",
    "# Calculate the corresponding y values using the normal distribution formula\n",
    "y = norm.pdf(x, float(mu), float(sd))\n",
    "\n",
    "# Plot the normal distribution\n",
    "plt.plot(x, y)\n",
    "plt.title(\"Normal Distribution\")\n",
    "plt.xlabel(\"x\")\n",
    "plt.ylabel(\"Probability Density\")\n",
    "plt.axvline(x= float(mu),ymax = 0.95, color='black')\n",
    "\n",
    "if test_int == 1:\n",
    "    plt.axvline(x= (float(z_val_prim) * float(sd) + float(mu)),ymax = 1, color='red')\n",
    "    plt.axvline(x= (float(z_val_seco) * float(sd) + float(mu)),ymax = 1, color='red')\n",
    "elif test_int == 2:\n",
    "    plt.axvline(x= (float(z_val_prim) * float(sd) + float(mu)),ymax = 1, color='red')\n",
    "elif test_int == 3:\n",
    "    plt.axvline(x= (float(z_val_prim) * float(sd) + float(mu)),ymax = 1, color='red')\n",
    "        \n",
    "# plt.axvline(x=mu, color='red')\n",
    "# plt.axvline(x=mu, color='red')\n",
    "plt.show()"
   ]
  },
  {
   "cell_type": "code",
   "execution_count": null,
   "id": "a8e2a4f1-0ac7-4714-b0a0-b89573632b15",
   "metadata": {},
   "outputs": [],
   "source": []
  }
 ],
 "metadata": {
  "kernelspec": {
   "display_name": "Python 3 (ipykernel)",
   "language": "python",
   "name": "python3"
  },
  "language_info": {
   "codemirror_mode": {
    "name": "ipython",
    "version": 3
   },
   "file_extension": ".py",
   "mimetype": "text/x-python",
   "name": "python",
   "nbconvert_exporter": "python",
   "pygments_lexer": "ipython3",
   "version": "3.12.4"
  }
 },
 "nbformat": 4,
 "nbformat_minor": 5
}
